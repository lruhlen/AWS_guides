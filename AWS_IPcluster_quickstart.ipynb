{
 "metadata": {
  "name": ""
 },
 "nbformat": 3,
 "nbformat_minor": 0,
 "worksheets": [
  {
   "cells": [
    {
     "cell_type": "markdown",
     "metadata": {},
     "source": [
      "# AWS + Starcluster + IPcluster Quick Reference Guide\n",
      "This is a collection of the commands I use most often to run batch simulations on AWS.\n",
      "Everything listed here has been tested, and works.  This is NOT a scratchwork collection!\n",
      "\n",
      "This guide assumes you already have your AWS cluster up & running, that you've already done the IPcluster configuration stuff, and that you've started an ipython session on the master node."
     ]
    },
    {
     "cell_type": "markdown",
     "metadata": {},
     "source": [
      "----\n",
      "## Upload and compile fortran code to AWS "
     ]
    },
    {
     "cell_type": "raw",
     "metadata": {},
     "source": [
      "starcluster put testcluster ~/Desktop/Upload_to_AWS/ /home/sgeadmin/"
     ]
    },
    {
     "cell_type": "markdown",
     "metadata": {},
     "source": [
      "Compile the fortran code in /home/sgeadmin using the usual gfortran command.\n",
      "\n",
      "While you're logged in as root, change the permissions on the input and output directories, the fortran binary, and change the ownership of my_python_tools.py to sgeadmin."
     ]
    },
    {
     "cell_type": "raw",
     "metadata": {},
     "source": [
      "chmod a+wrx inputs\n",
      "chmod a+wrx outputs\n",
      "chmod a+wrx full_run_....\n",
      "chown sgeadmin my_python_tools.py"
     ]
    },
    {
     "cell_type": "markdown",
     "metadata": {},
     "source": [
      "----\n",
      "## Start your ipython cluster\n",
      "\n",
      "Log into the master node as sgeadmin.  Start your ipython session in /home/sgeadmin, and then run the following commands."
     ]
    },
    {
     "cell_type": "raw",
     "metadata": {},
     "source": [
      "# Set up the cluster views\n",
      "from IPython.parallel import Client \n",
      "c = Client(profile='home')\n",
      "balanced       = c.load_balanced_view()\n",
      "direct         = c[:]\n",
      "balanced.block = True\n",
      "direct.block   = True\n",
      "\n",
      "# And check that all nodes are connected\n",
      "def checkhostname():\n",
      "    import socket\n",
      "    return socket.gethostname()\n",
      "\n",
      "print direct.apply(checkhostname)"
     ]
    },
    {
     "cell_type": "markdown",
     "metadata": {},
     "source": [
      "----\n",
      "## Set up and run the parallel fortran simulations"
     ]
    },
    {
     "cell_type": "markdown",
     "metadata": {},
     "source": [
      "### Import my user-defined functions to all engines in the cluster BEFORE running the batch of simulations\n",
      "\n",
      "The sync_imports function is applied to the direct view, but it also makes the load-balanced view aware of the imports, too. (Not sure if this is true, or why it works.)\n"
     ]
    },
    {
     "cell_type": "raw",
     "metadata": {},
     "source": [
      "with direct.sync_imports():\n",
      "    from my_python_tools import runSims, parse_kozai_results_on_cluster, run_and_parse"
     ]
    },
    {
     "cell_type": "markdown",
     "metadata": {},
     "source": [
      "### Run the simulations in parallel mode\n",
      "\n",
      "In this example, we're running two identical simulations (run1 and run2), just to test that each engine produces identical results."
     ]
    },
    {
     "cell_type": "raw",
     "metadata": {},
     "source": [
      "foo = balanced.map(run_and_parse,['run1','run2'])"
     ]
    }
   ],
   "metadata": {}
  }
 ]
}