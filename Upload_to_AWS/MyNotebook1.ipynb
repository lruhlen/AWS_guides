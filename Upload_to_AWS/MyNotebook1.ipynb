{
 "metadata": {
  "name": "MyNotebook1"
 },
 "nbformat": 3,
 "nbformat_minor": 0,
 "worksheets": [
  {
   "cells": [
    {
     "cell_type": "markdown",
     "metadata": {},
     "source": [
      "## General checks on the AWS system "
     ]
    },
    {
     "cell_type": "code",
     "collapsed": false,
     "input": [
      "!whoami"
     ],
     "language": "python",
     "metadata": {},
     "outputs": [
      {
       "output_type": "stream",
       "stream": "stdout",
       "text": [
        "sgeadmin\r\n"
       ]
      }
     ],
     "prompt_number": 42
    },
    {
     "cell_type": "code",
     "collapsed": false,
     "input": [
      "!pwd"
     ],
     "language": "python",
     "metadata": {},
     "outputs": [
      {
       "output_type": "stream",
       "stream": "stdout",
       "text": [
        "/home/sgeadmin\r\n"
       ]
      }
     ],
     "prompt_number": 43
    },
    {
     "cell_type": "code",
     "collapsed": false,
     "input": [
      "!ls\n"
     ],
     "language": "python",
     "metadata": {},
     "outputs": [
      {
       "output_type": "stream",
       "stream": "stdout",
       "text": [
        "eospointer\t\t\t\t MyNotebook1.ipynb\r\n",
        "eostable\t\t\t\t my_python_tools.py\r\n",
        "full_tidal_heating_time_limited\t\t my_python_tools.py~\r\n",
        "full_tidal_heating_time_limited.f\t opac.cool\r\n",
        "GN93hz\t\t\t\t\t outputs\r\n",
        "hel.cond\t\t\t\t parm.h\r\n",
        "hyd.cond\t\t\t\t parse_kozai_results_on_cluster.py\r\n",
        "inputs\t\t\t\t\t var.h\r\n",
        "make_inputs_time_limited_for_cluster.py\r\n"
       ]
      }
     ],
     "prompt_number": 44
    },
    {
     "cell_type": "markdown",
     "metadata": {},
     "source": [
      "----\n",
      "## Start up the ipython cluster"
     ]
    },
    {
     "cell_type": "code",
     "collapsed": false,
     "input": [
      "from IPython.parallel import Client "
     ],
     "language": "python",
     "metadata": {},
     "outputs": [],
     "prompt_number": 45
    },
    {
     "cell_type": "code",
     "collapsed": false,
     "input": [
      "c = Client(profile='home')"
     ],
     "language": "python",
     "metadata": {},
     "outputs": [],
     "prompt_number": 50
    },
    {
     "cell_type": "code",
     "collapsed": false,
     "input": [
      "balanced       = c.load_balanced_view()\n",
      "direct         = c[:]\n",
      "balanced.block = True\n",
      "direct.block   = True"
     ],
     "language": "python",
     "metadata": {},
     "outputs": [],
     "prompt_number": 51
    },
    {
     "cell_type": "code",
     "collapsed": false,
     "input": [
      "def checkhostname():\n",
      "    import socket\n",
      "    return socket.gethostname()"
     ],
     "language": "python",
     "metadata": {},
     "outputs": [],
     "prompt_number": 52
    },
    {
     "cell_type": "code",
     "collapsed": false,
     "input": [
      "hostnames = direct.apply(checkhostname)\n",
      "print hostnames"
     ],
     "language": "python",
     "metadata": {},
     "outputs": [
      {
       "output_type": "stream",
       "stream": "stdout",
       "text": [
        "['node001', 'master']\n"
       ]
      }
     ],
     "prompt_number": 53
    },
    {
     "cell_type": "markdown",
     "metadata": {},
     "source": [
      "----\n",
      "## Try loading python scripts in here"
     ]
    },
    {
     "cell_type": "code",
     "collapsed": false,
     "input": [
      "#%load my_python_tools.py "
     ],
     "language": "python",
     "metadata": {},
     "outputs": [],
     "prompt_number": 26
    },
    {
     "cell_type": "code",
     "collapsed": false,
     "input": [
      "from my_python_tools import *"
     ],
     "language": "python",
     "metadata": {},
     "outputs": [],
     "prompt_number": 68
    },
    {
     "cell_type": "code",
     "collapsed": false,
     "input": [
      "# These commands are necessary for the notebook to \n",
      "# 'see' edits made in realtime to the my_python_tools \n",
      "# module/script/whatever that I've written to perform\n",
      "# the ensuing simulations.\n",
      "%load_ext autoreload\n",
      "%autoreload 2"
     ],
     "language": "python",
     "metadata": {},
     "outputs": [],
     "prompt_number": 72
    },
    {
     "cell_type": "markdown",
     "metadata": {},
     "source": [
      "----\n",
      "## Upload/test the script that makes the batches of input files"
     ]
    },
    {
     "cell_type": "code",
     "collapsed": false,
     "input": [
      "input_files = make_input_files_time_limited()\n",
      "print input_files"
     ],
     "language": "python",
     "metadata": {},
     "outputs": [
      {
       "output_type": "stream",
       "stream": "stdout",
       "text": [
        "Made /home/sgeadmin/inputs/run1.txt\n",
        "Made /home/sgeadmin/inputs/run2.txt\n",
        "Made /home/sgeadmin/inputs/run3.txt\n",
        "Made /home/sgeadmin/inputs/run4.txt\n",
        "Made /home/sgeadmin/inputs/run5.txt\n",
        "Made /home/sgeadmin/inputs/run6.txt\n",
        "Made /home/sgeadmin/inputs/run7.txt\n",
        "Made /home/sgeadmin/inputs/run8.txt\n",
        "['run1.txt', 'run2.txt', 'run3.txt', 'run4.txt', 'run5.txt', 'run6.txt', 'run7.txt', 'run8.txt']\n"
       ]
      }
     ],
     "prompt_number": 74
    },
    {
     "cell_type": "code",
     "collapsed": false,
     "input": [
      "#test_run = runSims(input_files[0])\n",
      "#print test_run[0]\n",
      "#test_parse = parse_kozai_results_on_cluster(test_run[0],test_run[1])\n",
      "#print test_parse"
     ],
     "language": "python",
     "metadata": {},
     "outputs": [],
     "prompt_number": 13
    },
    {
     "cell_type": "code",
     "collapsed": false,
     "input": [
      "#test_run_and_parse = run_and_parse(input_files[0])"
     ],
     "language": "python",
     "metadata": {},
     "outputs": [],
     "prompt_number": 14
    },
    {
     "cell_type": "code",
     "collapsed": false,
     "input": [
      "run_and_parse(input_files[0])"
     ],
     "language": "python",
     "metadata": {},
     "outputs": [
      {
       "output_type": "stream",
       "stream": "stdout",
       "text": [
        "On  master\n",
        "\t Running  run1.txt\n",
        "\t Parsing "
       ]
      },
      {
       "output_type": "stream",
       "stream": "stdout",
       "text": [
        " run1.txt\n",
        "input_filename =  run1\n",
        "savedirBase =  /home/sgeadmin/outputs/run1/\n",
        "modfileName =  /home/sgeadmin/outputs/run1.mod\n"
       ]
      },
      {
       "output_type": "pyout",
       "prompt_number": 75,
       "text": [
        "'/home/sgeadmin/outputs/run1/'"
       ]
      }
     ],
     "prompt_number": 75
    },
    {
     "cell_type": "markdown",
     "metadata": {},
     "source": [
      "----\n",
      "##Push function definitions to all the engines"
     ]
    },
    {
     "cell_type": "code",
     "collapsed": false,
     "input": [
      "with direct.sync_imports():\n",
      "    import my_python_tools "
     ],
     "language": "python",
     "metadata": {},
     "outputs": [
      {
       "output_type": "stream",
       "stream": "stdout",
       "text": [
        "importing my_python_tools on engine(s)\n"
       ]
      }
     ],
     "prompt_number": 76
    },
    {
     "cell_type": "markdown",
     "metadata": {},
     "source": [
      "----\n",
      "## Try running the run_and_parse routine on the load balanced cluster view"
     ]
    },
    {
     "cell_type": "code",
     "collapsed": false,
     "input": [
      "print input_files[0:2]"
     ],
     "language": "python",
     "metadata": {},
     "outputs": [
      {
       "output_type": "stream",
       "stream": "stdout",
       "text": [
        "['run1.txt', 'run2.txt']\n"
       ]
      }
     ],
     "prompt_number": 77
    },
    {
     "cell_type": "code",
     "collapsed": false,
     "input": [
      "parallel_test = direct.map(run_and_parse,input_files)"
     ],
     "language": "python",
     "metadata": {},
     "outputs": [],
     "prompt_number": 78
    },
    {
     "cell_type": "code",
     "collapsed": false,
     "input": [
      "print parallel_test"
     ],
     "language": "python",
     "metadata": {},
     "outputs": [
      {
       "output_type": "stream",
       "stream": "stdout",
       "text": [
        "['/home/sgeadmin/outputs/run1/', '/home/sgeadmin/outputs/run2/', '/home/sgeadmin/outputs/run3/', '/home/sgeadmin/outputs/run4/', '/home/sgeadmin/outputs/run5/', '/home/sgeadmin/outputs/run6/', '/home/sgeadmin/outputs/run7/', '/home/sgeadmin/outputs/run8/']\n"
       ]
      }
     ],
     "prompt_number": 79
    },
    {
     "cell_type": "markdown",
     "metadata": {},
     "source": [
      "----\n",
      "Woohoo! It works! \n",
      "\n",
      "The next steps are:\n",
      "\n",
      "+ Save this notebook to permanent storage (on local machine? on an EBS volume?)\n",
      "+ Create a new cluster template on my local machine that creates a cluster with:\n",
      "    - More nodes (micro-sized?)\n",
      "        - Cost for t1.micro = $0.02/hr\n",
      "    - A larger master node (i.e., one with more memory, so it can store all the simulation results from a larger run)\n",
      "        - From [the AWS documentation](http://aws.amazon.com/ec2/instance-types/#instance-details), it looks like an m1.small instance should have plenty of memory (~100 GB) and processing power to store my batch simulation outputs\n",
      "        - Cost for m1.small = $0.06/hr\n",
      "+ Make an updated ipython cluster config file for/on the larger cluster\n",
      "+ Run a test of ~20 full-sized simulations on the larger cluster, and time it to see how long the batch takes."
     ]
    },
    {
     "cell_type": "markdown",
     "metadata": {},
     "source": [
      "### Some pricing calculations, for the simulation cluster outlined above:"
     ]
    },
    {
     "cell_type": "code",
     "collapsed": false,
     "input": [
      "# A full week of 19 micro nodes + 1 small node for master\n",
      "168*((0.02*19) + (0.06*1))"
     ],
     "language": "python",
     "metadata": {},
     "outputs": [
      {
       "output_type": "pyout",
       "prompt_number": 82,
       "text": [
        "73.92"
       ]
      }
     ],
     "prompt_number": 82
    },
    {
     "cell_type": "code",
     "collapsed": false,
     "input": [
      "# 12 hours of 99 micro nodes + 1 small node (master)\n",
      "12*((0.02*99) + (0.06*1))"
     ],
     "language": "python",
     "metadata": {},
     "outputs": [
      {
       "output_type": "pyout",
       "prompt_number": 84,
       "text": [
        "24.48"
       ]
      }
     ],
     "prompt_number": 84
    },
    {
     "cell_type": "markdown",
     "metadata": {},
     "source": [
      "Assume an individual simulation takes 0.5 hrs to run (true for very long-running or hard-to-converge simulations, most will be much quicker).\n",
      "\n",
      "The largest number of simulations I've run in one batch was ~1200, though all other batches were between 1 and ~100 simulations.\n"
     ]
    },
    {
     "cell_type": "code",
     "collapsed": false,
     "input": [
      "total_cpu_hrs = 1200 * 0.5\n",
      "\n"
     ],
     "language": "python",
     "metadata": {},
     "outputs": [],
     "prompt_number": 86
    },
    {
     "cell_type": "code",
     "collapsed": false,
     "input": [
      "total_cluster_hrs = total_cpu_hrs / num_nodes"
     ],
     "language": "python",
     "metadata": {},
     "outputs": []
    },
    {
     "cell_type": "code",
     "collapsed": false,
     "input": [
      "1200/56"
     ],
     "language": "python",
     "metadata": {},
     "outputs": [
      {
       "output_type": "pyout",
       "prompt_number": 87,
       "text": [
        "21"
       ]
      }
     ],
     "prompt_number": 87
    },
    {
     "cell_type": "code",
     "collapsed": false,
     "input": [
      "60*0.02"
     ],
     "language": "python",
     "metadata": {},
     "outputs": [
      {
       "output_type": "pyout",
       "prompt_number": 88,
       "text": [
        "1.2"
       ]
      }
     ],
     "prompt_number": 88
    },
    {
     "cell_type": "code",
     "collapsed": false,
     "input": [
      "750/168"
     ],
     "language": "python",
     "metadata": {},
     "outputs": [
      {
       "output_type": "pyout",
       "prompt_number": 89,
       "text": [
        "4"
       ]
      }
     ],
     "prompt_number": 89
    },
    {
     "cell_type": "code",
     "collapsed": false,
     "input": [],
     "language": "python",
     "metadata": {},
     "outputs": []
    }
   ],
   "metadata": {}
  }
 ]
}